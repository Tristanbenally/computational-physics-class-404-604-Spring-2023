{
 "cells": [
  {
   "cell_type": "code",
   "execution_count": 8,
   "id": "8ad5d2b4",
   "metadata": {},
   "outputs": [
    {
     "ename": "SyntaxError",
     "evalue": "invalid syntax (<ipython-input-8-d8f88817467a>, line 34)",
     "output_type": "error",
     "traceback": [
      "\u001b[0;36m  File \u001b[0;32m\"<ipython-input-8-d8f88817467a>\"\u001b[0;36m, line \u001b[0;32m34\u001b[0m\n\u001b[0;31m    until f1(x1,x2)<eps and f2(x1,x2)<eps\u001b[0m\n\u001b[0m          ^\u001b[0m\n\u001b[0;31mSyntaxError\u001b[0m\u001b[0;31m:\u001b[0m invalid syntax\n"
     ]
    }
   ],
   "source": [
    "import matplotlib.pyplot as plt\n",
    "import numpy as np\n",
    "\n",
    "\n",
    "def f1(x1,x2):\n",
    "    return (x1*x1+x1*x2-10.)\n",
    "\n",
    "def f2(x1,x2):\n",
    "    return (x2+3*x1*x2*x2-57)\n",
    "\n",
    "def f1x1(x1,x2):\n",
    "    return (2*x1 + x2)\n",
    "\n",
    "def f1x2(x1,x2):\n",
    "    return (x1)\n",
    "    \n",
    "def f2x1(x1,x2):\n",
    "    return(x2*x2)\n",
    "    \n",
    "def f2x2(x1,x2):\n",
    "    return (1+3*x1*2*x2)\n",
    "    \n",
    "def dx1(f1,f2,f1x1,f1x2,f2x1,f2x2,x1,x2):\n",
    "    return(((f1x2*f2)-(f2x2*f1))/((f1x1*f2x2)-(f1x2*f2x1)))\n",
    "\n",
    "def dx2(f1,f2,f1x1,f1x2,f2x1,f2x2,x1,x2):\n",
    "    return(((f2x1*f1)-(f1x1*f2))/((f1x1*f2x2)-(f1x2*f2x1)))\n",
    "    \n",
    "#initial guess \n",
    "x1 = 1, x2 = 1\n",
    "for i in x1 , x2:\n",
    "    x1=x1+dx1(f1,f2,f1x1,f1x2,f2x1,f2x2,x1,x2)\n",
    "    x2=x2+dx2(f1,f2,f1x1,f1x2,f2x1,f2x2,x1,x2)\n",
    "    until f1(x1,x2)<eps and f2(x1,x2)<eps"
   ]
  },
  {
   "cell_type": "code",
   "execution_count": 10,
   "id": "a3c12132",
   "metadata": {},
   "outputs": [
    {
     "ename": "NameError",
     "evalue": "name 'x' is not defined",
     "output_type": "error",
     "traceback": [
      "\u001b[0;31m---------------------------------------------------------------------------\u001b[0m",
      "\u001b[0;31mNameError\u001b[0m                                 Traceback (most recent call last)",
      "\u001b[0;32m<ipython-input-10-5d4f593845d4>\u001b[0m in \u001b[0;36m<module>\u001b[0;34m\u001b[0m\n\u001b[1;32m      9\u001b[0m     \u001b[0;32mreturn\u001b[0m \u001b[0;34m(\u001b[0m\u001b[0;34m-\u001b[0m\u001b[0;36m1\u001b[0m\u001b[0;34m+\u001b[0m\u001b[0mnp\u001b[0m\u001b[0;34m.\u001b[0m\u001b[0msqrt\u001b[0m\u001b[0;34m(\u001b[0m\u001b[0;36m1.\u001b[0m\u001b[0;34m+\u001b[0m\u001b[0;36m4.\u001b[0m\u001b[0;34m*\u001b[0m\u001b[0;36m3.\u001b[0m\u001b[0;34m*\u001b[0m\u001b[0mx\u001b[0m\u001b[0;34m*\u001b[0m\u001b[0;36m57\u001b[0m\u001b[0;34m)\u001b[0m\u001b[0;34m)\u001b[0m\u001b[0;34m/\u001b[0m\u001b[0;36m6.\u001b[0m\u001b[0;34m/\u001b[0m\u001b[0mx\u001b[0m\u001b[0;34m\u001b[0m\u001b[0;34m\u001b[0m\u001b[0m\n\u001b[1;32m     10\u001b[0m \u001b[0;34m\u001b[0m\u001b[0m\n\u001b[0;32m---> 11\u001b[0;31m \u001b[0mplt\u001b[0m\u001b[0;34m.\u001b[0m\u001b[0mplot\u001b[0m\u001b[0;34m(\u001b[0m\u001b[0mx\u001b[0m\u001b[0;34m,\u001b[0m\u001b[0mf1\u001b[0m\u001b[0;34m)\u001b[0m\u001b[0;34m\u001b[0m\u001b[0;34m\u001b[0m\u001b[0m\n\u001b[0m\u001b[1;32m     12\u001b[0m \u001b[0;31m## Draw graphics to roughly determine x1 and x2\u001b[0m\u001b[0;34m\u001b[0m\u001b[0;34m\u001b[0m\u001b[0;34m\u001b[0m\u001b[0m\n",
      "\u001b[0;31mNameError\u001b[0m: name 'x' is not defined"
     ]
    }
   ],
   "source": [
    "## Always a good idea to draw the function first\n",
    "import matplotlib.pyplot as plt\n",
    "import numpy as np\n",
    "\n",
    "def f1(x):\n",
    "    return (10.-x*x)/x\n",
    "\n",
    "def f2(x):\n",
    "    return (-1+np.sqrt(1.+4.*3.*x*57))/6./x\n",
    "\n",
    "plt.plot(x,f1)\n",
    "## Draw graphics to roughly determine x1 and x2"
   ]
  },
  {
   "cell_type": "code",
   "execution_count": null,
   "id": "6fd1f60c",
   "metadata": {},
   "outputs": [],
   "source": []
  }
 ],
 "metadata": {
  "kernelspec": {
   "display_name": "Python 3",
   "language": "python",
   "name": "python3"
  },
  "language_info": {
   "codemirror_mode": {
    "name": "ipython",
    "version": 3
   },
   "file_extension": ".py",
   "mimetype": "text/x-python",
   "name": "python",
   "nbconvert_exporter": "python",
   "pygments_lexer": "ipython3",
   "version": "3.8.8"
  }
 },
 "nbformat": 4,
 "nbformat_minor": 5
}
