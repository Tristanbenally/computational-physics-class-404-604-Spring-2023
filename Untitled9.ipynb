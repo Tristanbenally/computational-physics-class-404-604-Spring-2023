{
 "cells": [
  {
   "cell_type": "code",
   "execution_count": 124,
   "id": "1ae2ce50",
   "metadata": {},
   "outputs": [
    {
     "data": {
      "text/plain": [
       "[<matplotlib.lines.Line2D at 0x7fadebd05520>]"
      ]
     },
     "execution_count": 124,
     "metadata": {},
     "output_type": "execute_result"
    },
    {
     "data": {
      "image/png": "[encoded data removed]",
      "text/plain": [
       "<Figure size 432x288 with 1 Axes>"
      ]
     },
     "metadata": {
      "needs_background": "light"
     },
     "output_type": "display_data"
    }
   ],
   "source": [
    "import numpy as np\n",
    "import matplotlib.pyplot as plt\n",
    "#A=np.arange(1,13,2)\n",
    "#B=np.arange(1,23,2)\n",
    "#C=np.arange(1,33,2)\n",
    "#print(A)\n",
    "#print(B)\n",
    "#print(C)\n",
    "x=np.arange(-np.pi,np.pi,0.1)\n",
    "y=np.pi/2+2*(np.sin(x)+np.sin(3*x)/3+np.sin(5*x)/5+np.sin(7*x)/7+np.sin(9*x)/9+np.sin(11*x)/11)\n",
    "y_phi=np.pi/2+2*(np.sin(x)+np.sin(3*x)/3+np.sin(5*x)/5+np.sin(7*x)/7+np.sin(9*x)/9+np.sin(11*x)/11+np.sin(13*x)/13+np.sin(15*x)/15+np.sin(17*x)/17+np.sin(19*x)/19+np.sin(21*x)/21)\n",
    "y_phi_2=np.pi/2+2*(np.sin(x)+np.sin(3*x)/3+np.sin(5*x)/5+np.sin(7*x)/7+np.sin(9*x)/9+np.sin(11*x)/11+np.sin(13*x)/13+np.sin(15*x)/15+np.sin(17*x)/17+np.sin(19*x)/19+np.sin(21*x)/21+np.sin(23*x)/23+np.sin(25*x)/25+np.sin(27*x)/27+np.sin(29*x)/29+np.sin(31*x)/31)\n",
    "plt.plot(x,y, color = 'green')\n",
    "plt.plot(x,y_phi, color = 'red')\n",
    "plt.plot(x,y_phi_2, color = 'purple')"
   ]
  },
  {
   "cell_type": "code",
   "execution_count": 28,
   "id": "96c0c9f2",
   "metadata": {},
   "outputs": [
    {
     "ename": "TypeError",
     "evalue": "'float' object is not iterable",
     "output_type": "error",
     "traceback": [
      "\u001b[0;31m---------------------------------------------------------------------------\u001b[0m",
      "\u001b[0;31mTypeError\u001b[0m                                 Traceback (most recent call last)",
      "\u001b[0;32m<ipython-input-28-8d4440eb589e>\u001b[0m in \u001b[0;36m<module>\u001b[0;34m\u001b[0m\n\u001b[1;32m      3\u001b[0m \u001b[0;32mimport\u001b[0m \u001b[0mmath\u001b[0m\u001b[0;34m\u001b[0m\u001b[0;34m\u001b[0m\u001b[0m\n\u001b[1;32m      4\u001b[0m \u001b[0marr\u001b[0m \u001b[0;34m=\u001b[0m \u001b[0mmath\u001b[0m\u001b[0;34m.\u001b[0m\u001b[0msin\u001b[0m\u001b[0;34m(\u001b[0m\u001b[0mi\u001b[0m\u001b[0;34m*\u001b[0m\u001b[0mmath\u001b[0m\u001b[0;34m.\u001b[0m\u001b[0mpi\u001b[0m\u001b[0;34m)\u001b[0m\u001b[0;34m/\u001b[0m\u001b[0mi\u001b[0m\u001b[0;34m\u001b[0m\u001b[0;34m\u001b[0m\u001b[0m\n\u001b[0;32m----> 5\u001b[0;31m \u001b[0;32mfor\u001b[0m \u001b[0mi\u001b[0m \u001b[0;32min\u001b[0m \u001b[0marr\u001b[0m\u001b[0;34m:\u001b[0m\u001b[0;34m\u001b[0m\u001b[0;34m\u001b[0m\u001b[0m\n\u001b[0m\u001b[1;32m      6\u001b[0m     \u001b[0marr\u001b[0m\u001b[0;34m=\u001b[0m\u001b[0marr\u001b[0m\u001b[0;34m+\u001b[0m\u001b[0mi\u001b[0m\u001b[0;34m\u001b[0m\u001b[0;34m\u001b[0m\u001b[0m\n",
      "\u001b[0;31mTypeError\u001b[0m: 'float' object is not iterable"
     ]
    }
   ],
   "source": [
    "import matplotlib.pyplot as plt\n",
    "import numpy as np\n",
    "import math\n",
    "arr = math.sin(i*math.pi)/i\n",
    "for i in arr:\n",
    "    arr=arr+i"
   ]
  },
  {
   "cell_type": "code",
   "execution_count": 100,
   "id": "3fa1b510",
   "metadata": {},
   "outputs": [
    {
     "name": "stdout",
     "output_type": "stream",
     "text": [
      "[ 1  3  5  7  9 11]\n",
      "[-3.14159265e+00 -2.09439510e+00 -1.04719755e+00 -8.88178420e-16\n",
      "  1.04719755e+00  2.09439510e+00  3.14159265e+00]\n",
      "-0.8660254037844579\n"
     ]
    }
   ],
   "source": [
    "import numpy as np\n",
    "import matplotlib.pylab as plt\n",
    "x=np.arange(-math.pi,4*math.pi/3,math.pi/3)\n",
    "A=np.arange(1,13,2)\n",
    "print(A)\n",
    "print(x)\n",
    "#y=np.sin(np.dot(A,x))\n",
    "print(y)\n",
    "#z=sum(y)\n",
    "#print(z)\n",
    "#plt.plot(x,y)\n",
    "#plt.show()"
   ]
  },
  {
   "cell_type": "code",
   "execution_count": 37,
   "id": "7d7b8227",
   "metadata": {},
   "outputs": [
    {
     "data": {
      "text/plain": [
       "165"
      ]
     },
     "execution_count": 37,
     "metadata": {},
     "output_type": "execute_result"
    }
   ],
   "source": [
    "1+9+25+49+81"
   ]
  },
  {
   "cell_type": "code",
   "execution_count": null,
   "id": "e1729c46",
   "metadata": {},
   "outputs": [],
   "source": []
  }
 ],
 "metadata": {
  "kernelspec": {
   "display_name": "Python 3",
   "language": "python",
   "name": "python3"
  },
  "language_info": {
   "codemirror_mode": {
    "name": "ipython",
    "version": 3
   },
   "file_extension": ".py",
   "mimetype": "text/x-python",
   "name": "python",
   "nbconvert_exporter": "python",
   "pygments_lexer": "ipython3",
   "version": "3.8.8"
  }
 },
 "nbformat": 4,
 "nbformat_minor": 5
}
