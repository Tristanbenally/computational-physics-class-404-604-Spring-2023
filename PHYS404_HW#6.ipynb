{
 "cells": [
  {
   "cell_type": "code",
   "execution_count": 19,
   "id": "2323ecf9",
   "metadata": {},
   "outputs": [
    {
     "data": {
      "image/png": "[encoded data removed]",
      "text/plain": [
       "<Figure size 432x288 with 1 Axes>"
      ]
     },
     "metadata": {
      "needs_background": "light"
     },
     "output_type": "display_data"
    }
   ],
   "source": [
    "import numpy as np\n",
    "import matplotlib.pyplot as plt\n",
    "\n",
    "#function we wish to re-represent: y'' = 1/(1-x^2)[2xy'-n(n+1)y]\n",
    "#with the following initial conditions: y(0)=0,y'(0)=y'(a), n = 1,3,..2n-1\n",
    "#substitute y' = v thus we can re-write as v' = 1/(1-x^2)[2xv-n(n+1)y]\n",
    "#we can now also re-write the initial conditions as y(0)=0,v(0)=v(a)\n",
    "tend = 1\n",
    "h = 1.e-4\n",
    "y = [0.,0.,0.,1.,0.]\n",
    "t = 0\n",
    "n= 5\n",
    "def f(t, y):\n",
    "    f=np.zeros(5)\n",
    "    #for f[0] = x, f[1] = v_x, f[2] = y, f[3] = v (v = dy/dx) \n",
    "    f[0]=y[1]\n",
    "    f[1]=0\n",
    "    f[2]=y[2]\n",
    "    f[3]=y[3]\n",
    "    f[4]=1/(1-y[0]*y[0])*(2*y[0]*y[3]-5*(5+1)*y[2])\n",
    "    return f\n",
    "\n",
    "def rk4(t, h, y, n):\n",
    "    k1 = np.zeros(n)\n",
    "    k2 = np.zeros(n)\n",
    "    k3 = np.zeros(n)\n",
    "    k4 = np.zeros(n)\n",
    "    k1=h*f(t,y)\n",
    "    k2=h*f(t+0.5*h,y+0.5*k1)\n",
    "    k3=h*f(t+h*0.5,y+0.5*k2)# please finish this line\n",
    "    k4=h*f(t+h,y+k3)# please finish this line\n",
    "    y+=1/6*(k1+2*k2+2*k3+k4)# please finish this line\n",
    "    return y\n",
    "\n",
    "tp=[]\n",
    "y0p=[]\n",
    "\n",
    "while(t<tend):\n",
    "    if((t+h)>tend):\n",
    "        h=tend-t\n",
    "    y = rk4(t,h,y,5)\n",
    "    y0p=np.append(y0p,y[3])\n",
    "    t = t+h\n",
    "    tp=np.append(tp,t)\n",
    "\n",
    "plt.plot(tp,y0p)\n",
    "plt.show()"
   ]
  },
  {
   "cell_type": "code",
   "execution_count": 47,
   "id": "1307b623",
   "metadata": {},
   "outputs": [
    {
     "data": {
      "image/png": "[encoded data removed]",
      "text/plain": [
       "<Figure size 432x288 with 1 Axes>"
      ]
     },
     "metadata": {
      "needs_background": "light"
     },
     "output_type": "display_data"
    }
   ],
   "source": [
    "tend = 2.605\n",
    "h = 1.e-4\n",
    "y = [0.,10.,9.81,0.]\n",
    "t = 0\n",
    "def f(t, y):\n",
    "    f=np.zeros(4)\n",
    "    #for f[0] = y_o, f[1] = v_y0, f[2] = -g f[3] = -1/2*g*t^2+v_0y*t+y_o (v = dy/dx) \n",
    "    f[0]=y[0]\n",
    "    f[1]=y[1]\n",
    "    f[2]=y[2]\n",
    "    f[3]=-1/2*y[2]*t**2+y[1]*t+y[0]\n",
    "    return f\n",
    "\n",
    "def rk4(t, h, y, n):\n",
    "    k1 = np.zeros(n)\n",
    "    k2 = np.zeros(n)\n",
    "    k3 = np.zeros(n)\n",
    "    k4 = np.zeros(n)\n",
    "    k1=h*f(t,y)\n",
    "    k2=h*f(t+0.5*h,y+0.5*k1)\n",
    "    k3=h*f(t+h*0.5,y+0.5*k2)# please finish this line\n",
    "    k4=h*f(t+h,y+k3)# please finish this line\n",
    "    y+=1/6*(k1+2*k2+2*k3+k4)# please finish this line\n",
    "    return y\n",
    "\n",
    "tp=[]\n",
    "y0p=[]\n",
    "\n",
    "while(t<tend):\n",
    "    if((t+h)>tend):\n",
    "        h=tend-t\n",
    "    y = rk4(t,h,y,4)\n",
    "    y0p=np.append(y0p,y[3])\n",
    "    t = t+h\n",
    "    tp=np.append(tp,t)\n",
    "\n",
    "plt.plot(tp,y0p)\n",
    "plt.show()"
   ]
  },
  {
   "cell_type": "code",
   "execution_count": null,
   "id": "4877ef75",
   "metadata": {},
   "outputs": [],
   "source": []
  },
  {
   "cell_type": "code",
   "execution_count": null,
   "id": "5aed686c",
   "metadata": {},
   "outputs": [],
   "source": []
  }
 ],
 "metadata": {
  "kernelspec": {
   "display_name": "Python 3",
   "language": "python",
   "name": "python3"
  },
  "language_info": {
   "codemirror_mode": {
    "name": "ipython",
    "version": 3
   },
   "file_extension": ".py",
   "mimetype": "text/x-python",
   "name": "python",
   "nbconvert_exporter": "python",
   "pygments_lexer": "ipython3",
   "version": "3.8.8"
  }
 },
 "nbformat": 4,
 "nbformat_minor": 5
}
